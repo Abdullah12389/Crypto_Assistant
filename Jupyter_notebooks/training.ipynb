{
 "cells": [
  {
   "cell_type": "code",
   "execution_count": 1,
   "id": "ff2e9e4f",
   "metadata": {},
   "outputs": [
    {
     "name": "stderr",
     "output_type": "stream",
     "text": [
      "/home/Projects/penv/lib/python3.12/site-packages/tqdm/auto.py:21: TqdmWarning: IProgress not found. Please update jupyter and ipywidgets. See https://ipywidgets.readthedocs.io/en/stable/user_install.html\n",
      "  from .autonotebook import tqdm as notebook_tqdm\n"
     ]
    }
   ],
   "source": [
    "from binance.client import Client\n",
    "import pandas as pd\n",
    "import time\n",
    "from prophet import Prophet\n",
    "import os\n",
    "import numpy as np"
   ]
  },
  {
   "cell_type": "code",
   "execution_count": 70,
   "id": "b8a51284",
   "metadata": {},
   "outputs": [],
   "source": [
    "api=os.environ['API_KEY']\n",
    "secret=os.environ['SECRET_KEY']\n",
    "mainnet=Client(api,secret)\n",
    "mainnet.API_URL=\"https://api.binance.com/api\""
   ]
  },
  {
   "cell_type": "code",
   "execution_count": null,
   "id": "95568c91",
   "metadata": {},
   "outputs": [],
   "source": [
    "def get_kline_data(symbol,lasthowmany,interval):\n",
    "    lastone=int(time.time()*1000)\n",
    "    df=[]\n",
    "    for _ in range(lasthowmany):\n",
    "        data=mainnet.get_klines(\n",
    "            symbol=symbol,\n",
    "            limit=500,\n",
    "            endTim1751454000000e=lastone,\n",
    "            interval=interval\n",
    "        )\n",
    "        lastone=int(data[0][0])\n",
    "        data.reverse()\n",
    "        df=df+data\n",
    "        if(len(data)<500):\n",
    "            break\n",
    "    return df"
   ]
  },
  {
   "cell_type": "code",
   "execution_count": null,
   "id": "b57dc953",
   "metadata": {},
   "outputs": [],
   "source": [
    "columns=[\"open_time\",\"open\",\"high\",\"low\",\"close\",\"volume\",\"close_time\",\"quote_asset_volume\",\"number_of_trades\", \"taker_buy_base_asset_volume\",\"taker_buy_quote_asset_volume\",\"ignore\"]\n",
    "daily_data=pd.DataFrame(get_kline_data(\"BTCUSDT\",280,\"1d\"),columns=columns)[[\"open_time\",\"open\",\"high\",\"low\",\"close\",\"volume\"]]"
   ]
  },
  {
   "cell_type": "code",
   "execution_count": 83,
   "id": "02ed6488",
   "metadata": {},
   "outputs": [],
   "source": [
    "sorted_values=daily_data.sort_values(by=\"open_time\").reset_index(drop=True)\n",
    "sorted_values[\"open_time\"]=pd.to_datetime(sorted_values['open_time'],unit=\"ms\")"
   ]
  },
  {
   "cell_type": "code",
   "execution_count": 2,
   "id": "bce0f375",
   "metadata": {},
   "outputs": [
    {
     "ename": "NameError",
     "evalue": "name 'sorted_values' is not defined",
     "output_type": "error",
     "traceback": [
      "\u001b[31m---------------------------------------------------------------------------\u001b[39m",
      "\u001b[31mNameError\u001b[39m                                 Traceback (most recent call last)",
      "\u001b[36mCell\u001b[39m\u001b[36m \u001b[39m\u001b[32mIn[2]\u001b[39m\u001b[32m, line 1\u001b[39m\n\u001b[32m----> \u001b[39m\u001b[32m1\u001b[39m daily_data=\u001b[43msorted_values\u001b[49m.drop(columns=[\u001b[33m'\u001b[39m\u001b[33mclose_time\u001b[39m\u001b[33m'\u001b[39m])\n\u001b[32m      2\u001b[39m daily_data.to_csv(\u001b[33m\"\u001b[39m\u001b[33mdaily_bitcoin_price.csv\u001b[39m\u001b[33m\"\u001b[39m)\n",
      "\u001b[31mNameError\u001b[39m: name 'sorted_values' is not defined"
     ]
    }
   ],
   "source": [
    "daily_data=sorted_values.drop(columns=['close_time'])\n",
    "daily_data.to_csv(\"daily_bitcoin_price.csv\")"
   ]
  },
  {
   "cell_type": "code",
   "execution_count": 3,
   "id": "893e8a63",
   "metadata": {},
   "outputs": [],
   "source": [
    "coin_data=pd.read_csv(\"../Data/Bitcoin_data.csv\")\n",
    "coin_data=coin_data.sort_values(by=\"open_time\").reset_index(drop=True)[[\"open_time\",\"open\",\"high\",\"low\",\"close\"]] #making values go from low to high"
   ]
  },
  {
   "cell_type": "code",
   "execution_count": 4,
   "id": "d887c830",
   "metadata": {},
   "outputs": [],
   "source": [
    "from ta.momentum import RSIIndicator\n",
    "from ta.trend import MACD, EMAIndicator\n",
    "from ta.volatility import AverageTrueRange\n",
    "rsi = RSIIndicator(close=coin_data[\"close\"], window=14)\n",
    "coin_data[\"rsi\"] = rsi.rsi()\n",
    "\n",
    "#MACD\n",
    "macd = MACD(close=coin_data[\"close\"])\n",
    "coin_data[\"macd\"] = macd.macd()\n",
    "coin_data[\"macd_signal\"] = macd.macd_signal()\n",
    "\n",
    "#EMA\n",
    "ema = EMAIndicator(close=coin_data[\"close\"], window=20)\n",
    "coin_data[\"ema_20\"] = ema.ema_indicator()\n",
    "\n",
    "#ATR\n",
    "atr = AverageTrueRange(high=coin_data[\"high\"], low=coin_data[\"low\"], close=coin_data[\"close\"], window=14)\n",
    "coin_data[\"atr\"] = atr.average_true_range()"
   ]
  },
  {
   "cell_type": "code",
   "execution_count": 6,
   "id": "e4f29f90",
   "metadata": {},
   "outputs": [
    {
     "data": {
      "text/plain": [
       "69001"
      ]
     },
     "execution_count": 6,
     "metadata": {},
     "output_type": "execute_result"
    }
   ],
   "source": [
    "len(coin_data)"
   ]
  },
  {
   "cell_type": "code",
   "execution_count": 5,
   "id": "f2bcbcfd",
   "metadata": {},
   "outputs": [],
   "source": [
    "coin_data[\"open_time\"]=pd.to_datetime(coin_data['open_time'],unit=\"ms\")\n",
    "#coin_data['close_time']=pd.to_datetime(coin_data['close_time'],unit=\"ms\")\n"
   ]
  },
  {
   "cell_type": "code",
   "execution_count": 6,
   "id": "e7775e76",
   "metadata": {},
   "outputs": [],
   "source": [
    "coin_data_x=coin_data[:-1]\n",
    "coin_data_y=coin_data['close'][1:].reset_index(drop=True)"
   ]
  },
  {
   "cell_type": "code",
   "execution_count": 7,
   "id": "34941b60",
   "metadata": {},
   "outputs": [],
   "source": [
    "#removing time columns of previous values i.e x and getting time column of current xepected i.e output\n",
    "coin_x_data=coin_data_x.drop(columns=[\"open_time\"])\n",
    "lstm_data=pd.concat([coin_data.iloc[1:]['open_time'].reset_index(drop=True),coin_x_data],axis=1).fillna(0)\n",
    "\n",
    "#feature engineering\n",
    "lstm_data['weekday']=lstm_data['open_time'].dt.day_of_week\n",
    "lstm_data['day_of_year']=lstm_data['open_time'].dt.day_of_year\n",
    "lstm_data['hour']=lstm_data['open_time'].dt.hour\n",
    "lstm_data['month_end']=lstm_data['open_time'].dt.is_month_end.astype(np.float32)\n",
    "lstm_data['month_start']=lstm_data['open_time'].dt.is_month_start.astype(np.float32)\n",
    "lstm_data['quarter_start']=lstm_data['open_time'].dt.is_quarter_start.astype(np.float32)\n",
    "lstm_data[\"quarter_end\"]=lstm_data['open_time'].dt.is_quarter_end.astype(np.float32)\n",
    "lstm_data[\"year\"]=lstm_data['open_time'].dt.year\n",
    "lstm_data['month']=lstm_data['open_time'].dt.month\n",
    "lstm_data['is_recent']=lstm_data['open_time'].dt.year>2023\n",
    "lstm_data['is_recent']=lstm_data['is_recent'].astype(np.float64)\n",
    "\n",
    "#preparing datsets for scaling\n",
    "Y=pd.DataFrame(coin_data_y)\n",
    "X=lstm_data.drop(columns=['open_time'])"
   ]
  },
  {
   "cell_type": "code",
   "execution_count": 14,
   "id": "f870889d",
   "metadata": {},
   "outputs": [],
   "source": [
    "#scaling\n",
    "from sklearn.preprocessing import MinMaxScaler,StandardScaler\n",
    "outscaler=MinMaxScaler()\n",
    "inpscaler=MinMaxScaler()\n",
    "Y_scaled=outscaler.fit_transform(Y)\n",
    "X_scaled=inpscaler.fit_transform(X)"
   ]
  },
  {
   "cell_type": "code",
   "execution_count": 43,
   "id": "1662f621",
   "metadata": {},
   "outputs": [],
   "source": [
    "#reshaping timestamps\n",
    "X=X_scaled.reshape(int(X_scaled.shape[0]/15),15,X_scaled.shape[1])\n",
    "Y=Y_scaled.reshape(int(Y_scaled.shape[0]/15),15)"
   ]
  },
  {
   "cell_type": "code",
   "execution_count": 44,
   "id": "b17a8a4c",
   "metadata": {},
   "outputs": [],
   "source": [
    "\n",
    "importance=np.linspace(0,1,15).reshape(1,15,1)\n",
    "x=np.repeat(importance,repeats=4600,axis=0)\n",
    "X=np.append(X,x,axis=2)"
   ]
  },
  {
   "cell_type": "code",
   "execution_count": 45,
   "id": "3befb905",
   "metadata": {},
   "outputs": [],
   "source": [
    "from tensorflow.keras.layers import Bidirectional,Input,Dense,Dropout,LayerNormalization,LSTM #type:ignore\n",
    "from tensorflow.keras.models import Model #type:ignore\n",
    "from tensorflow.keras.callbacks import EarlyStopping,LearningRateScheduler #type:ignore\n",
    "from tensorflow.keras.regularizers import l2 #type:ignore\n",
    "input_layer=Input(shape=(15,20),name=\"input\")\n",
    "lstm=LSTM(64,activation=\"relu\",kernel_regularizer=l2(0.001))(input_layer)\n",
    "norm=LayerNormalization()(lstm)\n",
    "drop=Dropout(0.2)(norm)\n",
    "output=Dense(15)(drop)\n",
    "model=Model(inputs=input_layer,outputs=output)"
   ]
  },
  {
   "cell_type": "code",
   "execution_count": 47,
   "id": "3d126e82",
   "metadata": {},
   "outputs": [
    {
     "name": "stdout",
     "output_type": "stream",
     "text": [
      "Epoch 1/30\n",
      "\u001b[1m115/115\u001b[0m \u001b[32m━━━━━━━━━━━━━━━━━━━━\u001b[0m\u001b[37m\u001b[0m \u001b[1m3s\u001b[0m 11ms/step - loss: 0.3442 - mae: 0.5079 - val_loss: 0.1739 - val_mae: 0.2029 - learning_rate: 0.0010\n",
      "Epoch 2/30\n",
      "\u001b[1m115/115\u001b[0m \u001b[32m━━━━━━━━━━━━━━━━━━━━\u001b[0m\u001b[37m\u001b[0m \u001b[1m1s\u001b[0m 9ms/step - loss: 0.0932 - mae: 0.1260 - val_loss: 0.0910 - val_mae: 0.1027 - learning_rate: 0.0010\n",
      "Epoch 3/30\n",
      "\u001b[1m115/115\u001b[0m \u001b[32m━━━━━━━━━━━━━━━━━━━━\u001b[0m\u001b[37m\u001b[0m \u001b[1m1s\u001b[0m 9ms/step - loss: 0.0417 - mae: 0.0496 - val_loss: 0.0768 - val_mae: 0.0882 - learning_rate: 0.0010\n",
      "Epoch 4/30\n",
      "\u001b[1m115/115\u001b[0m \u001b[32m━━━━━━━━━━━━━━━━━━━━\u001b[0m\u001b[37m\u001b[0m \u001b[1m1s\u001b[0m 10ms/step - loss: 0.0268 - mae: 0.0296 - val_loss: 0.0941 - val_mae: 0.1126 - learning_rate: 0.0010\n",
      "Epoch 5/30\n",
      "\u001b[1m115/115\u001b[0m \u001b[32m━━━━━━━━━━━━━━━━━━━━\u001b[0m\u001b[37m\u001b[0m \u001b[1m1s\u001b[0m 10ms/step - loss: 0.0214 - mae: 0.0235 - val_loss: 0.0387 - val_mae: 0.0426 - learning_rate: 0.0010\n",
      "Epoch 6/30\n",
      "\u001b[1m115/115\u001b[0m \u001b[32m━━━━━━━━━━━━━━━━━━━━\u001b[0m\u001b[37m\u001b[0m \u001b[1m1s\u001b[0m 10ms/step - loss: 0.0186 - mae: 0.0206 - val_loss: 0.0858 - val_mae: 0.1046 - learning_rate: 0.0010\n",
      "Epoch 7/30\n",
      "\u001b[1m115/115\u001b[0m \u001b[32m━━━━━━━━━━━━━━━━━━━━\u001b[0m\u001b[37m\u001b[0m \u001b[1m1s\u001b[0m 10ms/step - loss: 0.0168 - mae: 0.0190 - val_loss: 0.0703 - val_mae: 0.0854 - learning_rate: 0.0010\n",
      "Epoch 8/30\n",
      "\u001b[1m115/115\u001b[0m \u001b[32m━━━━━━━━━━━━━━━━━━━━\u001b[0m\u001b[37m\u001b[0m \u001b[1m1s\u001b[0m 9ms/step - loss: 0.0158 - mae: 0.0184 - val_loss: 0.0655 - val_mae: 0.0797 - learning_rate: 0.0010\n",
      "Epoch 9/30\n",
      "\u001b[1m115/115\u001b[0m \u001b[32m━━━━━━━━━━━━━━━━━━━━\u001b[0m\u001b[37m\u001b[0m \u001b[1m1s\u001b[0m 9ms/step - loss: 0.0142 - mae: 0.0166 - val_loss: 0.0278 - val_mae: 0.0316 - learning_rate: 0.0010\n",
      "Epoch 10/30\n",
      "\u001b[1m115/115\u001b[0m \u001b[32m━━━━━━━━━━━━━━━━━━━━\u001b[0m\u001b[37m\u001b[0m \u001b[1m1s\u001b[0m 10ms/step - loss: 0.0128 - mae: 0.0150 - val_loss: 0.0483 - val_mae: 0.0586 - learning_rate: 0.0010\n",
      "Epoch 11/30\n",
      "\u001b[1m115/115\u001b[0m \u001b[32m━━━━━━━━━━━━━━━━━━━━\u001b[0m\u001b[37m\u001b[0m \u001b[1m1s\u001b[0m 10ms/step - loss: 0.0128 - mae: 0.0156 - val_loss: 0.0329 - val_mae: 0.0390 - learning_rate: 9.9900e-04\n",
      "Epoch 12/30\n",
      "\u001b[1m115/115\u001b[0m \u001b[32m━━━━━━━━━━━━━━━━━━━━\u001b[0m\u001b[37m\u001b[0m \u001b[1m1s\u001b[0m 9ms/step - loss: 0.0127 - mae: 0.0158 - val_loss: 0.0540 - val_mae: 0.0666 - learning_rate: 9.9800e-04\n",
      "Epoch 13/30\n",
      "\u001b[1m115/115\u001b[0m \u001b[32m━━━━━━━━━━━━━━━━━━━━\u001b[0m\u001b[37m\u001b[0m \u001b[1m1s\u001b[0m 9ms/step - loss: 0.0116 - mae: 0.0143 - val_loss: 0.0236 - val_mae: 0.0275 - learning_rate: 9.9700e-04\n",
      "Epoch 14/30\n",
      "\u001b[1m115/115\u001b[0m \u001b[32m━━━━━━━━━━━━━━━━━━━━\u001b[0m\u001b[37m\u001b[0m \u001b[1m1s\u001b[0m 9ms/step - loss: 0.0110 - mae: 0.0137 - val_loss: 0.0300 - val_mae: 0.0361 - learning_rate: 9.9601e-04\n",
      "Epoch 15/30\n",
      "\u001b[1m115/115\u001b[0m \u001b[32m━━━━━━━━━━━━━━━━━━━━\u001b[0m\u001b[37m\u001b[0m \u001b[1m1s\u001b[0m 9ms/step - loss: 0.0101 - mae: 0.0125 - val_loss: 0.0189 - val_mae: 0.0217 - learning_rate: 9.9501e-04\n",
      "Epoch 16/30\n",
      "\u001b[1m115/115\u001b[0m \u001b[32m━━━━━━━━━━━━━━━━━━━━\u001b[0m\u001b[37m\u001b[0m \u001b[1m1s\u001b[0m 9ms/step - loss: 0.0099 - mae: 0.0125 - val_loss: 0.0187 - val_mae: 0.0217 - learning_rate: 9.9402e-04\n",
      "Epoch 17/30\n",
      "\u001b[1m115/115\u001b[0m \u001b[32m━━━━━━━━━━━━━━━━━━━━\u001b[0m\u001b[37m\u001b[0m \u001b[1m1s\u001b[0m 10ms/step - loss: 0.0094 - mae: 0.0120 - val_loss: 0.0199 - val_mae: 0.0234 - learning_rate: 9.9302e-04\n",
      "Epoch 18/30\n",
      "\u001b[1m115/115\u001b[0m \u001b[32m━━━━━━━━━━━━━━━━━━━━\u001b[0m\u001b[37m\u001b[0m \u001b[1m1s\u001b[0m 10ms/step - loss: 0.0094 - mae: 0.0122 - val_loss: 0.0240 - val_mae: 0.0289 - learning_rate: 9.9203e-04\n",
      "Epoch 19/30\n",
      "\u001b[1m115/115\u001b[0m \u001b[32m━━━━━━━━━━━━━━━━━━━━\u001b[0m\u001b[37m\u001b[0m \u001b[1m1s\u001b[0m 9ms/step - loss: 0.0091 - mae: 0.0117 - val_loss: 0.0202 - val_mae: 0.0242 - learning_rate: 9.9104e-04\n",
      "Epoch 20/30\n",
      "\u001b[1m115/115\u001b[0m \u001b[32m━━━━━━━━━━━━━━━━━━━━\u001b[0m\u001b[37m\u001b[0m \u001b[1m1s\u001b[0m 9ms/step - loss: 0.0086 - mae: 0.0112 - val_loss: 0.0113 - val_mae: 0.0126 - learning_rate: 9.9005e-04\n",
      "Epoch 21/30\n",
      "\u001b[1m115/115\u001b[0m \u001b[32m━━━━━━━━━━━━━━━━━━━━\u001b[0m\u001b[37m\u001b[0m \u001b[1m1s\u001b[0m 9ms/step - loss: 0.0083 - mae: 0.0109 - val_loss: 0.0241 - val_mae: 0.0293 - learning_rate: 9.8906e-04\n",
      "Epoch 22/30\n",
      "\u001b[1m115/115\u001b[0m \u001b[32m━━━━━━━━━━━━━━━━━━━━\u001b[0m\u001b[37m\u001b[0m \u001b[1m1s\u001b[0m 9ms/step - loss: 0.0085 - mae: 0.0113 - val_loss: 0.0391 - val_mae: 0.0487 - learning_rate: 9.8807e-04\n",
      "Epoch 23/30\n",
      "\u001b[1m115/115\u001b[0m \u001b[32m━━━━━━━━━━━━━━━━━━━━\u001b[0m\u001b[37m\u001b[0m \u001b[1m1s\u001b[0m 9ms/step - loss: 0.0078 - mae: 0.0103 - val_loss: 0.0128 - val_mae: 0.0150 - learning_rate: 9.8708e-04\n",
      "Epoch 24/30\n",
      "\u001b[1m115/115\u001b[0m \u001b[32m━━━━━━━━━━━━━━━━━━━━\u001b[0m\u001b[37m\u001b[0m \u001b[1m1s\u001b[0m 10ms/step - loss: 0.0075 - mae: 0.0099 - val_loss: 0.0209 - val_mae: 0.0254 - learning_rate: 9.8610e-04\n",
      "Epoch 25/30\n",
      "\u001b[1m115/115\u001b[0m \u001b[32m━━━━━━━━━━━━━━━━━━━━\u001b[0m\u001b[37m\u001b[0m \u001b[1m1s\u001b[0m 9ms/step - loss: 0.0087 - mae: 0.0118 - val_loss: 0.0098 - val_mae: 0.0111 - learning_rate: 9.8511e-04\n",
      "Epoch 26/30\n",
      "\u001b[1m115/115\u001b[0m \u001b[32m━━━━━━━━━━━━━━━━━━━━\u001b[0m\u001b[37m\u001b[0m \u001b[1m1s\u001b[0m 9ms/step - loss: 0.0081 - mae: 0.0111 - val_loss: 0.0225 - val_mae: 0.0277 - learning_rate: 9.8413e-04\n",
      "Epoch 27/30\n",
      "\u001b[1m115/115\u001b[0m \u001b[32m━━━━━━━━━━━━━━━━━━━━\u001b[0m\u001b[37m\u001b[0m \u001b[1m1s\u001b[0m 8ms/step - loss: 0.0075 - mae: 0.0102 - val_loss: 0.0180 - val_mae: 0.0217 - learning_rate: 9.8314e-04\n",
      "Epoch 28/30\n",
      "\u001b[1m115/115\u001b[0m \u001b[32m━━━━━━━━━━━━━━━━━━━━\u001b[0m\u001b[37m\u001b[0m \u001b[1m1s\u001b[0m 9ms/step - loss: 0.0076 - mae: 0.0103 - val_loss: 0.0099 - val_mae: 0.0113 - learning_rate: 9.8216e-04\n",
      "Epoch 29/30\n",
      "\u001b[1m115/115\u001b[0m \u001b[32m━━━━━━━━━━━━━━━━━━━━\u001b[0m\u001b[37m\u001b[0m \u001b[1m1s\u001b[0m 9ms/step - loss: 0.0066 - mae: 0.0089 - val_loss: 0.0129 - val_mae: 0.0154 - learning_rate: 9.8118e-04\n",
      "Epoch 30/30\n",
      "\u001b[1m115/115\u001b[0m \u001b[32m━━━━━━━━━━━━━━━━━━━━\u001b[0m\u001b[37m\u001b[0m \u001b[1m1s\u001b[0m 9ms/step - loss: 0.0072 - mae: 0.0099 - val_loss: 0.0139 - val_mae: 0.0168 - learning_rate: 9.8020e-04\n"
     ]
    },
    {
     "data": {
      "text/plain": [
       "<keras.src.callbacks.history.History at 0x7ae338674770>"
      ]
     },
     "execution_count": 47,
     "metadata": {},
     "output_type": "execute_result"
    }
   ],
   "source": [
    "import math\n",
    "def schedule(epoch,lr):\n",
    "    if epoch<10:\n",
    "        return lr\n",
    "    else:\n",
    "        return lr*math.exp(-0.001)\n",
    "sched=LearningRateScheduler(schedule,verbose=0)\n",
    "weight_pre=np.linspace(0.5,0.8,len(X))\n",
    "stop=EarlyStopping(patience=10,restore_best_weights=True,monitor=\"val_loss\")\n",
    "model.compile(optimizer='adam',loss=\"mae\",metrics=['mae'])\n",
    "model.fit(x=X,y=Y,validation_split=0.2,sample_weight=weight_pre,epochs=30,batch_size=32,callbacks=[stop,sched])"
   ]
  },
  {
   "cell_type": "markdown",
   "id": "080efe3c",
   "metadata": {},
   "source": [
    "Statistics Based Training"
   ]
  },
  {
   "cell_type": "code",
   "execution_count": 51,
   "id": "7b0ce739",
   "metadata": {},
   "outputs": [],
   "source": [
    "from prophet import Prophet\n",
    "model_daily=Prophet()\n",
    "model_hourly=Prophet()"
   ]
  },
  {
   "cell_type": "code",
   "execution_count": 162,
   "id": "315811b7",
   "metadata": {},
   "outputs": [],
   "source": [
    "daily_data=pd.read_csv(\"daily_bitcoin_price.csv\")[[\"open_time\",\"close\"]]"
   ]
  },
  {
   "cell_type": "code",
   "execution_count": 163,
   "id": "6141e283",
   "metadata": {},
   "outputs": [],
   "source": [
    "data=daily_data.rename(columns={\"open_time\":\"ds\",\"close\":\"y\"})"
   ]
  },
  {
   "cell_type": "code",
   "execution_count": 164,
   "id": "dcd78bff",
   "metadata": {},
   "outputs": [
    {
     "name": "stderr",
     "output_type": "stream",
     "text": [
      "11:57:02 - cmdstanpy - INFO - Chain [1] start processing\n",
      "11:57:03 - cmdstanpy - INFO - Chain [1] done processing\n"
     ]
    },
    {
     "data": {
      "text/plain": [
       "<prophet.forecaster.Prophet at 0x722626c50c20>"
      ]
     },
     "execution_count": 164,
     "metadata": {},
     "output_type": "execute_result"
    }
   ],
   "source": [
    "model_daily.fit(data)"
   ]
  },
  {
   "cell_type": "code",
   "execution_count": 49,
   "id": "d55dc21d",
   "metadata": {},
   "outputs": [],
   "source": [
    "X_data=coin_data_x.copy()#.drop(columns=['close_time'])\n",
    "Y_data=coin_data_y.copy()\n",
    "X_data=X_data.rename(columns={'open_time':\"ds\",\"close\":\"previous_close\"}).fillna(0)"
   ]
  },
  {
   "cell_type": "code",
   "execution_count": 52,
   "id": "fb4b9e3d",
   "metadata": {},
   "outputs": [],
   "source": [
    "for col in X_data.columns[1:]:\n",
    "    model_hourly.add_regressor(col)\n",
    "hourly_data=pd.concat([X_data,Y_data],axis=1).rename(columns={\"close\":\"y\"})"
   ]
  },
  {
   "cell_type": "code",
   "execution_count": 53,
   "id": "446e330c",
   "metadata": {},
   "outputs": [
    {
     "name": "stderr",
     "output_type": "stream",
     "text": [
      "16:25:32 - cmdstanpy - INFO - Chain [1] start processing\n",
      "16:26:24 - cmdstanpy - INFO - Chain [1] done processing\n"
     ]
    },
    {
     "data": {
      "text/plain": [
       "<prophet.forecaster.Prophet at 0x7ae3303d4cb0>"
      ]
     },
     "execution_count": 53,
     "metadata": {},
     "output_type": "execute_result"
    }
   ],
   "source": [
    "model_hourly.fit(hourly_data)"
   ]
  },
  {
   "cell_type": "markdown",
   "id": "c898416b",
   "metadata": {},
   "source": [
    "Saving Models"
   ]
  },
  {
   "cell_type": "code",
   "execution_count": 59,
   "id": "b1109d4e",
   "metadata": {},
   "outputs": [
    {
     "name": "stderr",
     "output_type": "stream",
     "text": [
      "WARNING: All log messages before absl::InitializeLog() is called are written to STDERR\n",
      "I0000 00:00:1751542032.735157   56980 devices.cc:76] Number of eligible GPUs (core count >= 8, compute capability >= 0.0): 0 (Note: TensorFlow was not compiled with CUDA or ROCm support)\n",
      "I0000 00:00:1751542032.737568   56980 single_machine.cc:374] Starting new session\n",
      "I0000 00:00:1751542032.871238   56980 devices.cc:76] Number of eligible GPUs (core count >= 8, compute capability >= 0.0): 0 (Note: TensorFlow was not compiled with CUDA or ROCm support)\n",
      "I0000 00:00:1751542032.871414   56980 single_machine.cc:374] Starting new session\n",
      "I0000 00:00:1751542032.942850   56980 mlir_graph_optimization_pass.cc:425] MLIR V1 optimization pass is not enabled\n",
      "rewriter <function rewrite_constant_fold at 0x7ae3014b5760>: exception `np.cast` was removed in the NumPy 2.0 release. Use `np.asarray(arr, dtype=dtype)` instead.\n",
      "rewriter <function rewrite_constant_fold at 0x7ae3014b5760>: exception `np.cast` was removed in the NumPy 2.0 release. Use `np.asarray(arr, dtype=dtype)` instead.\n",
      "rewriter <function rewrite_constant_fold at 0x7ae3014b5760>: exception `np.cast` was removed in the NumPy 2.0 release. Use `np.asarray(arr, dtype=dtype)` instead.\n"
     ]
    }
   ],
   "source": [
    "import tf2onnx\n",
    "import tensorflow as tf\n",
    "spec=(tf.TensorSpec([None,15,20],tf.float32,name=\"input\"),)\n",
    "onnx_model, _ = tf2onnx.convert.from_keras(model, input_signature=spec, opset=13)\n",
    "with open(\"../models/lstm_model.onnx\", \"wb\") as f:\n",
    "    f.write(onnx_model.SerializeToString())\n"
   ]
  },
  {
   "cell_type": "code",
   "execution_count": 60,
   "id": "5e574fca",
   "metadata": {},
   "outputs": [
    {
     "data": {
      "text/plain": [
       "['input_scaler.pkl']"
      ]
     },
     "execution_count": 60,
     "metadata": {},
     "output_type": "execute_result"
    }
   ],
   "source": [
    "import joblib\n",
    "joblib.dump(outscaler,\"ouput_scaler.pkl\")\n",
    "joblib.dump(inpscaler,\"input_scaler.pkl\")"
   ]
  },
  {
   "cell_type": "code",
   "execution_count": null,
   "id": "f9c9f91b",
   "metadata": {},
   "outputs": [],
   "source": [
    "import pickle\n",
    "with open(\"daily_stat.pkl\",\"wb\") as  f:\n",
    "    pickle.dump(model_daily,f)\n",
    "with open(\"hourly_stat.pkl\",\"wb\") as  f:\n",
    "    pickle.dump(model_hourly,f)"
   ]
  },
  {
   "cell_type": "code",
   "execution_count": 21,
   "id": "288d9e77",
   "metadata": {},
   "outputs": [
    {
     "name": "stderr",
     "output_type": "stream",
     "text": [
      "18:35:18 - cmdstanpy - INFO - Chain [1] start processing\n",
      "18:36:11 - cmdstanpy - INFO - Chain [1] done processing\n",
      "18:36:16 - cmdstanpy - INFO - Chain [1] start processing\n",
      "18:37:09 - cmdstanpy - INFO - Chain [1] done processing\n",
      "18:37:13 - cmdstanpy - INFO - Chain [1] start processing\n",
      "18:37:52 - cmdstanpy - INFO - Chain [1] done processing\n",
      "18:37:57 - cmdstanpy - INFO - Chain [1] start processing\n",
      "18:38:46 - cmdstanpy - INFO - Chain [1] done processing\n"
     ]
    }
   ],
   "source": [
    "#generating random data as binance is not avilable on hugging face spaces anmd coin gecko \n",
    "# do not provide some required features\n",
    "random_data=pd.DataFrame()\n",
    "for col in coin_data.columns[7:]:\n",
    "    random=Prophet()\n",
    "    random.fit(coin_data[[col,\"open_time\"]].rename(columns={col:\"y\",\"open_time\":\"ds\"}))\n",
    "    ds=random.make_future_dataframe(1440,freq=\"h\")[-1440:]\n",
    "    pred=random.predict(ds)\n",
    "    df=(pred['yhat_lower']+pred['yhat_upper'])/2\n",
    "    random_data=pd.concat([random_data,df],axis=1)"
   ]
  },
  {
   "cell_type": "code",
   "execution_count": 24,
   "id": "01b2b07f",
   "metadata": {},
   "outputs": [],
   "source": [
    "rand=random_data.copy()"
   ]
  },
  {
   "cell_type": "code",
   "execution_count": 30,
   "id": "2bba8dce",
   "metadata": {},
   "outputs": [],
   "source": [
    "random_un_avilable_features=pd.DataFrame(random_data.values,columns=coin_data.columns[7:])"
   ]
  },
  {
   "cell_type": "code",
   "execution_count": 32,
   "id": "72cd6c5a",
   "metadata": {},
   "outputs": [],
   "source": [
    "random_un_avilable_features.to_csv(\"../Data/random_un_avilable_features.csv\",index=False)"
   ]
  },
  {
   "cell_type": "code",
   "execution_count": null,
   "id": "edc2fc1c",
   "metadata": {},
   "outputs": [
    {
     "name": "stderr",
     "output_type": "stream",
     "text": [
      "01:39:17 - cmdstanpy - INFO - Chain [1] start processing\n"
     ]
    }
   ],
   "source": []
  },
  {
   "cell_type": "code",
   "execution_count": 3,
   "id": "81adbf3a",
   "metadata": {},
   "outputs": [
    {
     "data": {
      "text/html": [
       "<div>\n",
       "<style scoped>\n",
       "    .dataframe tbody tr th:only-of-type {\n",
       "        vertical-align: middle;\n",
       "    }\n",
       "\n",
       "    .dataframe tbody tr th {\n",
       "        vertical-align: top;\n",
       "    }\n",
       "\n",
       "    .dataframe thead th {\n",
       "        text-align: right;\n",
       "    }\n",
       "</style>\n",
       "<table border=\"1\" class=\"dataframe\">\n",
       "  <thead>\n",
       "    <tr style=\"text-align: right;\">\n",
       "      <th></th>\n",
       "      <th>quote_asset_volume</th>\n",
       "      <th>number_of_trades</th>\n",
       "      <th>taker_buy_base_asset_volume</th>\n",
       "      <th>taker_buy_quote_asset_volume</th>\n",
       "    </tr>\n",
       "  </thead>\n",
       "  <tbody>\n",
       "    <tr>\n",
       "      <th>0</th>\n",
       "      <td>9.222408e+07</td>\n",
       "      <td>179326.623882</td>\n",
       "      <td>505.339246</td>\n",
       "      <td>4.612218e+07</td>\n",
       "    </tr>\n",
       "    <tr>\n",
       "      <th>1</th>\n",
       "      <td>9.161722e+07</td>\n",
       "      <td>170215.196710</td>\n",
       "      <td>399.538443</td>\n",
       "      <td>4.486107e+07</td>\n",
       "    </tr>\n",
       "    <tr>\n",
       "      <th>2</th>\n",
       "      <td>8.667917e+07</td>\n",
       "      <td>169245.322554</td>\n",
       "      <td>284.626219</td>\n",
       "      <td>3.893690e+07</td>\n",
       "    </tr>\n",
       "    <tr>\n",
       "      <th>3</th>\n",
       "      <td>8.200503e+07</td>\n",
       "      <td>168767.963208</td>\n",
       "      <td>276.567090</td>\n",
       "      <td>3.873445e+07</td>\n",
       "    </tr>\n",
       "    <tr>\n",
       "      <th>4</th>\n",
       "      <td>7.888336e+07</td>\n",
       "      <td>169221.859637</td>\n",
       "      <td>251.364054</td>\n",
       "      <td>3.782706e+07</td>\n",
       "    </tr>\n",
       "    <tr>\n",
       "      <th>...</th>\n",
       "      <td>...</td>\n",
       "      <td>...</td>\n",
       "      <td>...</td>\n",
       "      <td>...</td>\n",
       "    </tr>\n",
       "    <tr>\n",
       "      <th>1435</th>\n",
       "      <td>1.217626e+08</td>\n",
       "      <td>265735.208522</td>\n",
       "      <td>895.537788</td>\n",
       "      <td>6.134585e+07</td>\n",
       "    </tr>\n",
       "    <tr>\n",
       "      <th>1436</th>\n",
       "      <td>1.225006e+08</td>\n",
       "      <td>267925.656345</td>\n",
       "      <td>969.173176</td>\n",
       "      <td>6.160272e+07</td>\n",
       "    </tr>\n",
       "    <tr>\n",
       "      <th>1437</th>\n",
       "      <td>1.159318e+08</td>\n",
       "      <td>254553.750171</td>\n",
       "      <td>785.421935</td>\n",
       "      <td>5.463344e+07</td>\n",
       "    </tr>\n",
       "    <tr>\n",
       "      <th>1438</th>\n",
       "      <td>1.036725e+08</td>\n",
       "      <td>240812.404071</td>\n",
       "      <td>529.320428</td>\n",
       "      <td>4.877405e+07</td>\n",
       "    </tr>\n",
       "    <tr>\n",
       "      <th>1439</th>\n",
       "      <td>9.099955e+07</td>\n",
       "      <td>234605.969766</td>\n",
       "      <td>367.566938</td>\n",
       "      <td>4.606073e+07</td>\n",
       "    </tr>\n",
       "  </tbody>\n",
       "</table>\n",
       "<p>1440 rows × 4 columns</p>\n",
       "</div>"
      ],
      "text/plain": [
       "      quote_asset_volume  number_of_trades  taker_buy_base_asset_volume  \\\n",
       "0           9.222408e+07     179326.623882                   505.339246   \n",
       "1           9.161722e+07     170215.196710                   399.538443   \n",
       "2           8.667917e+07     169245.322554                   284.626219   \n",
       "3           8.200503e+07     168767.963208                   276.567090   \n",
       "4           7.888336e+07     169221.859637                   251.364054   \n",
       "...                  ...               ...                          ...   \n",
       "1435        1.217626e+08     265735.208522                   895.537788   \n",
       "1436        1.225006e+08     267925.656345                   969.173176   \n",
       "1437        1.159318e+08     254553.750171                   785.421935   \n",
       "1438        1.036725e+08     240812.404071                   529.320428   \n",
       "1439        9.099955e+07     234605.969766                   367.566938   \n",
       "\n",
       "      taker_buy_quote_asset_volume  \n",
       "0                     4.612218e+07  \n",
       "1                     4.486107e+07  \n",
       "2                     3.893690e+07  \n",
       "3                     3.873445e+07  \n",
       "4                     3.782706e+07  \n",
       "...                            ...  \n",
       "1435                  6.134585e+07  \n",
       "1436                  6.160272e+07  \n",
       "1437                  5.463344e+07  \n",
       "1438                  4.877405e+07  \n",
       "1439                  4.606073e+07  \n",
       "\n",
       "[1440 rows x 4 columns]"
      ]
     },
     "execution_count": 3,
     "metadata": {},
     "output_type": "execute_result"
    }
   ],
   "source": [
    "data=pd.read_csv(\"../Data/random_un_avilable_features.csv\")\n",
    "data"
   ]
  },
  {
   "cell_type": "code",
   "execution_count": 12,
   "id": "8df83ffe",
   "metadata": {},
   "outputs": [
    {
     "name": "stderr",
     "output_type": "stream",
     "text": [
      "10:13:16 - cmdstanpy - INFO - Chain [1] start processing\n",
      "10:14:20 - cmdstanpy - INFO - Chain [1] done processing\n"
     ]
    },
    {
     "data": {
      "text/plain": [
       "<prophet.forecaster.Prophet at 0x7115fbc7d610>"
      ]
     },
     "execution_count": 12,
     "metadata": {},
     "output_type": "execute_result"
    }
   ],
   "source": [
    "model=Prophet()\n",
    "data=coin_data[['open_time','number_of_trades']].rename(columns={\"open_time\":\"ds\",\"number_of_trades\":\"y\"})\n",
    "model.fit(data)"
   ]
  },
  {
   "cell_type": "code",
   "execution_count": 19,
   "id": "7ca72aa6",
   "metadata": {},
   "outputs": [
    {
     "data": {
      "text/html": [
       "<div>\n",
       "<style scoped>\n",
       "    .dataframe tbody tr th:only-of-type {\n",
       "        vertical-align: middle;\n",
       "    }\n",
       "\n",
       "    .dataframe tbody tr th {\n",
       "        vertical-align: top;\n",
       "    }\n",
       "\n",
       "    .dataframe thead th {\n",
       "        text-align: right;\n",
       "    }\n",
       "</style>\n",
       "<table border=\"1\" class=\"dataframe\">\n",
       "  <thead>\n",
       "    <tr style=\"text-align: right;\">\n",
       "      <th></th>\n",
       "      <th>ds</th>\n",
       "    </tr>\n",
       "  </thead>\n",
       "  <tbody>\n",
       "    <tr>\n",
       "      <th>68863</th>\n",
       "      <td>2025-06-30 19:00:00</td>\n",
       "    </tr>\n",
       "    <tr>\n",
       "      <th>68864</th>\n",
       "      <td>2025-06-30 20:00:00</td>\n",
       "    </tr>\n",
       "    <tr>\n",
       "      <th>68865</th>\n",
       "      <td>2025-06-30 21:00:00</td>\n",
       "    </tr>\n",
       "    <tr>\n",
       "      <th>68866</th>\n",
       "      <td>2025-06-30 22:00:00</td>\n",
       "    </tr>\n",
       "    <tr>\n",
       "      <th>68867</th>\n",
       "      <td>2025-06-30 23:00:00</td>\n",
       "    </tr>\n",
       "    <tr>\n",
       "      <th>...</th>\n",
       "      <td>...</td>\n",
       "    </tr>\n",
       "    <tr>\n",
       "      <th>70298</th>\n",
       "      <td>2025-08-29 14:00:00</td>\n",
       "    </tr>\n",
       "    <tr>\n",
       "      <th>70299</th>\n",
       "      <td>2025-08-29 15:00:00</td>\n",
       "    </tr>\n",
       "    <tr>\n",
       "      <th>70300</th>\n",
       "      <td>2025-08-29 16:00:00</td>\n",
       "    </tr>\n",
       "    <tr>\n",
       "      <th>70301</th>\n",
       "      <td>2025-08-29 17:00:00</td>\n",
       "    </tr>\n",
       "    <tr>\n",
       "      <th>70302</th>\n",
       "      <td>2025-08-29 18:00:00</td>\n",
       "    </tr>\n",
       "  </tbody>\n",
       "</table>\n",
       "<p>1440 rows × 1 columns</p>\n",
       "</div>"
      ],
      "text/plain": [
       "                       ds\n",
       "68863 2025-06-30 19:00:00\n",
       "68864 2025-06-30 20:00:00\n",
       "68865 2025-06-30 21:00:00\n",
       "68866 2025-06-30 22:00:00\n",
       "68867 2025-06-30 23:00:00\n",
       "...                   ...\n",
       "70298 2025-08-29 14:00:00\n",
       "70299 2025-08-29 15:00:00\n",
       "70300 2025-08-29 16:00:00\n",
       "70301 2025-08-29 17:00:00\n",
       "70302 2025-08-29 18:00:00\n",
       "\n",
       "[1440 rows x 1 columns]"
      ]
     },
     "execution_count": 19,
     "metadata": {},
     "output_type": "execute_result"
    }
   ],
   "source": [
    "model.make_future_dataframe(1440,freq=\"h\")[-1440:]"
   ]
  }
 ],
 "metadata": {
  "kernelspec": {
   "display_name": "penv",
   "language": "python",
   "name": "python3"
  },
  "language_info": {
   "codemirror_mode": {
    "name": "ipython",
    "version": 3
   },
   "file_extension": ".py",
   "mimetype": "text/x-python",
   "name": "python",
   "nbconvert_exporter": "python",
   "pygments_lexer": "ipython3",
   "version": "3.12.3"
  }
 },
 "nbformat": 4,
 "nbformat_minor": 5
}
